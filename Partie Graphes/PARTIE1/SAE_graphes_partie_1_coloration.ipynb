{
  "cells": [
    {
      "cell_type": "markdown",
      "metadata": {
        "id": "ig4qj29e6Mii"
      },
      "source": [
        "# Présentation de la partie 1 de la SAE sur les graphes\n",
        "\n",
        "Dans cette première partie de SAE sur les graphes, l'objectif est de pouvoir faire de la coloration de graphe, en utilisant l'algorithme de Welsh et Powell. La coloration de graphes sera utilisée pour établir un planning d'activités, pour plusieurs groupes de personnes, à partir des choix d'activités de chacun des groupes.\n",
        "\n",
        "La représentation choisie pour les graphes est une matrice d'adjacence, qui sera représentée par un tableau de tableau (les noms des sommets sont des entiers et seront numérotés en commençant à 0). Nous considérons que le nombre de sommets du graphe ne pourra pas être modifié une fois le graphe construit. Un tableau contenant le nom associé à chaque sommet sera également créé.\n"
      ]
    },
    {
      "cell_type": "markdown",
      "metadata": {
        "id": "AKzCXnwQROCX"
      },
      "source": [
        "### Présentation du problème et choix des activités\n",
        "\n",
        "L'office de tourisme de votre département organise des semaines d'activités en petits groupes. Chaque groupe peut choisir 3 activités. Chaque activité ne peut avoir lieu qu'une seule journée chaque semaine et tous les groupes inscrits à cette activité y participe ce jour-là. On souhaite minimiser le nombre total de journées dans la semaine pour pouvoir faire toutes les activités.\n",
        "\n",
        "Le premier onglet du document partagé https://uncloud.univ-nantes.fr/index.php/s/C7GToT824Me3FFJ donne les choix d'activités de chaque groupe. Chaque binôme doit ensuite choisir les 7 activités qu'il souhaite considérer et les indiquer dans l'onglet correspondant du document partagé (chaque binôme doit choisir parmi les activités du département assigné à son groupe)."
      ]
    },
    {
      "cell_type": "markdown",
      "metadata": {
        "id": "uOFf_dNVROCY"
      },
      "source": [
        "\n",
        "\n",
        "## Installation de graphviz pour pouvoir visualiser les graphes\n"
      ]
    },
    {
      "cell_type": "code",
      "execution_count": 1,
      "metadata": {
        "id": "dJOAb8jn6bx9",
        "colab": {
          "base_uri": "https://localhost:8080/"
        },
        "outputId": "2073998d-0c2f-4ef3-e8d7-b37b35bd293a"
      },
      "outputs": [
        {
          "output_type": "stream",
          "name": "stdout",
          "text": [
            "Looking in indexes: https://pypi.org/simple, https://us-python.pkg.dev/colab-wheels/public/simple/\n",
            "Requirement already satisfied: graphviz in /usr/local/lib/python3.7/dist-packages (0.10.1)\n"
          ]
        },
        {
          "output_type": "execute_result",
          "data": {
            "text/plain": [
              "('0.10.1', (2, 40, 1))"
            ]
          },
          "metadata": {},
          "execution_count": 1
        }
      ],
      "source": [
        "!pip install graphviz\n",
        "import graphviz\n",
        "graphviz.__version__, graphviz.version()"
      ]
    },
    {
      "cell_type": "markdown",
      "metadata": {
        "id": "Nvb-erzR_nnA"
      },
      "source": [
        "\n",
        "\n",
        "## Création d'une fonction de conversion d'un graphe, défini par une matrice d'adjacence, vers le format graphviz\n"
      ]
    },
    {
      "cell_type": "code",
      "execution_count": 2,
      "metadata": {
        "id": "JVyp5Hg4_udn"
      },
      "outputs": [],
      "source": [
        "def creation_graphe_graphviz(g):\n",
        "    # création d'un graphe non orienté\n",
        "    dot = graphviz.Graph()\n",
        "    \n",
        "    # ajout des sommets\n",
        "    for i in range(len(g)):\n",
        "        dot.node(str(i))\n",
        "    \n",
        "    # ajout des arcs\n",
        "    for i in range(len(g)):\n",
        "        for j in range(i):\n",
        "            if g[i][j] == 1:\n",
        "                dot.edge(str(i), str(j))\n",
        "    \n",
        "    return dot"
      ]
    },
    {
      "cell_type": "markdown",
      "metadata": {
        "id": "CtdBW3ZYROCb"
      },
      "source": [
        "## Création du graphe non orienté correspondant au problème\n"
      ]
    },
    {
      "cell_type": "markdown",
      "metadata": {
        "id": "MnwA--yuROCc"
      },
      "source": [
        "#### Création du graphe, au format tableau de tableau, et du tableau des noms de sommets\n"
      ]
    },
    {
      "cell_type": "code",
      "execution_count": 3,
      "metadata": {
        "id": "k392cKugROCd"
      },
      "outputs": [],
      "source": [
        "graphe = [[0,1,0,0,0,1,0], #Act1\n",
        "          [1,0,0,0,1,1,0], #Act2\n",
        "          [0,0,0,1,0,0,1], #Act3\n",
        "          [0,0,1,0,1,0,1], #Act4\n",
        "          [0,1,0,1,0,1,1], #Act5\n",
        "          [1,1,0,0,1,0,0], #Act6\n",
        "          [0,0,1,1,1,0,0]] #Act7\n",
        "\n",
        "\n",
        "noms_sommets = [\"AKWA NATURE - CANOË-KAYAK\",\t\n",
        "                \"BILLARD CLUB BAULOIS\",\t\n",
        "                \"BLUE GREEN GOLF LE CROISIC\",\t\n",
        "                \"ESCAPE GAME 'TERREUR AU BIGNON'- THÉÂTRE IMMERSIF\",\t\n",
        "                \"PAINTBALL\",\t\n",
        "                \"MOTO-CROSS DE LA HUTIERE\",\t\n",
        "                \"PISCINE DES ARDRIERS\"]"
      ]
    },
    {
      "cell_type": "markdown",
      "metadata": {
        "id": "-9pSn8oRROCd"
      },
      "source": [
        "#### Création et affichage du graphe associé, au format graphviz\n"
      ]
    },
    {
      "cell_type": "code",
      "execution_count": 4,
      "metadata": {
        "colab": {
          "base_uri": "https://localhost:8080/",
          "height": 368
        },
        "id": "ic-KMIEmROCe",
        "outputId": "ba6f9eab-785e-408c-abd1-e2ba75009e95"
      },
      "outputs": [
        {
          "output_type": "execute_result",
          "data": {
            "text/plain": [
              "<graphviz.dot.Graph at 0x7f3b4b654a90>"
            ],
            "image/svg+xml": "<?xml version=\"1.0\" encoding=\"UTF-8\" standalone=\"no\"?>\n<!DOCTYPE svg PUBLIC \"-//W3C//DTD SVG 1.1//EN\"\n \"http://www.w3.org/Graphics/SVG/1.1/DTD/svg11.dtd\">\n<!-- Generated by graphviz version 2.40.1 (20161225.0304)\n -->\n<!-- Title: %3 Pages: 1 -->\n<svg width=\"192pt\" height=\"260pt\"\n viewBox=\"0.00 0.00 192.00 260.00\" xmlns=\"http://www.w3.org/2000/svg\" xmlns:xlink=\"http://www.w3.org/1999/xlink\">\n<g id=\"graph0\" class=\"graph\" transform=\"scale(1 1) rotate(0) translate(4 256)\">\n<title>%3</title>\n<polygon fill=\"#ffffff\" stroke=\"transparent\" points=\"-4,4 -4,-256 188,-256 188,4 -4,4\"/>\n<!-- 0 -->\n<g id=\"node1\" class=\"node\">\n<title>0</title>\n<ellipse fill=\"none\" stroke=\"#000000\" cx=\"157\" cy=\"-18\" rx=\"27\" ry=\"18\"/>\n<text text-anchor=\"middle\" x=\"157\" y=\"-14.3\" font-family=\"Times,serif\" font-size=\"14.00\" fill=\"#000000\">0</text>\n</g>\n<!-- 1 -->\n<g id=\"node2\" class=\"node\">\n<title>1</title>\n<ellipse fill=\"none\" stroke=\"#000000\" cx=\"130\" cy=\"-90\" rx=\"27\" ry=\"18\"/>\n<text text-anchor=\"middle\" x=\"130\" y=\"-86.3\" font-family=\"Times,serif\" font-size=\"14.00\" fill=\"#000000\">1</text>\n</g>\n<!-- 1&#45;&#45;0 -->\n<g id=\"edge1\" class=\"edge\">\n<title>1&#45;&#45;0</title>\n<path fill=\"none\" stroke=\"#000000\" d=\"M136.6742,-72.2022C140.8593,-61.0419 146.2321,-46.7143 150.4026,-35.593\"/>\n</g>\n<!-- 2 -->\n<g id=\"node3\" class=\"node\">\n<title>2</title>\n<ellipse fill=\"none\" stroke=\"#000000\" cx=\"27\" cy=\"-18\" rx=\"27\" ry=\"18\"/>\n<text text-anchor=\"middle\" x=\"27\" y=\"-14.3\" font-family=\"Times,serif\" font-size=\"14.00\" fill=\"#000000\">2</text>\n</g>\n<!-- 3 -->\n<g id=\"node4\" class=\"node\">\n<title>3</title>\n<ellipse fill=\"none\" stroke=\"#000000\" cx=\"54\" cy=\"-90\" rx=\"27\" ry=\"18\"/>\n<text text-anchor=\"middle\" x=\"54\" y=\"-86.3\" font-family=\"Times,serif\" font-size=\"14.00\" fill=\"#000000\">3</text>\n</g>\n<!-- 3&#45;&#45;2 -->\n<g id=\"edge2\" class=\"edge\">\n<title>3&#45;&#45;2</title>\n<path fill=\"none\" stroke=\"#000000\" d=\"M47.3258,-72.2022C43.1407,-61.0419 37.7679,-46.7143 33.5974,-35.593\"/>\n</g>\n<!-- 4 -->\n<g id=\"node5\" class=\"node\">\n<title>4</title>\n<ellipse fill=\"none\" stroke=\"#000000\" cx=\"92\" cy=\"-162\" rx=\"27\" ry=\"18\"/>\n<text text-anchor=\"middle\" x=\"92\" y=\"-158.3\" font-family=\"Times,serif\" font-size=\"14.00\" fill=\"#000000\">4</text>\n</g>\n<!-- 4&#45;&#45;1 -->\n<g id=\"edge3\" class=\"edge\">\n<title>4&#45;&#45;1</title>\n<path fill=\"none\" stroke=\"#000000\" d=\"M101.0055,-144.937C106.9752,-133.626 114.7851,-118.8282 120.7952,-107.4407\"/>\n</g>\n<!-- 4&#45;&#45;3 -->\n<g id=\"edge4\" class=\"edge\">\n<title>4&#45;&#45;3</title>\n<path fill=\"none\" stroke=\"#000000\" d=\"M82.9945,-144.937C77.0248,-133.626 69.2149,-118.8282 63.2048,-107.4407\"/>\n</g>\n<!-- 5 -->\n<g id=\"node6\" class=\"node\">\n<title>5</title>\n<ellipse fill=\"none\" stroke=\"#000000\" cx=\"147\" cy=\"-234\" rx=\"27\" ry=\"18\"/>\n<text text-anchor=\"middle\" x=\"147\" y=\"-230.3\" font-family=\"Times,serif\" font-size=\"14.00\" fill=\"#000000\">5</text>\n</g>\n<!-- 5&#45;&#45;0 -->\n<g id=\"edge5\" class=\"edge\">\n<title>5&#45;&#45;0</title>\n<path fill=\"none\" stroke=\"#000000\" d=\"M151.4593,-216.0608C158.3458,-186.225 170.3443,-124.4916 166,-72 164.9966,-59.8759 162.7466,-46.3759 160.7474,-35.9069\"/>\n</g>\n<!-- 5&#45;&#45;1 -->\n<g id=\"edge6\" class=\"edge\">\n<title>5&#45;&#45;1</title>\n<path fill=\"none\" stroke=\"#000000\" d=\"M144.8813,-216.0535C141.6237,-188.4592 135.4191,-135.9026 132.1454,-108.1727\"/>\n</g>\n<!-- 5&#45;&#45;4 -->\n<g id=\"edge7\" class=\"edge\">\n<title>5&#45;&#45;4</title>\n<path fill=\"none\" stroke=\"#000000\" d=\"M134.5196,-217.6621C125.5186,-205.8788 113.4207,-190.0416 104.431,-178.2733\"/>\n</g>\n<!-- 6 -->\n<g id=\"node7\" class=\"node\">\n<title>6</title>\n<ellipse fill=\"none\" stroke=\"#000000\" cx=\"37\" cy=\"-234\" rx=\"27\" ry=\"18\"/>\n<text text-anchor=\"middle\" x=\"37\" y=\"-230.3\" font-family=\"Times,serif\" font-size=\"14.00\" fill=\"#000000\">6</text>\n</g>\n<!-- 6&#45;&#45;2 -->\n<g id=\"edge8\" class=\"edge\">\n<title>6&#45;&#45;2</title>\n<path fill=\"none\" stroke=\"#000000\" d=\"M32.5407,-216.0608C25.6542,-186.225 13.6557,-124.4916 18,-72 19.0034,-59.8759 21.2534,-46.3759 23.2526,-35.9069\"/>\n</g>\n<!-- 6&#45;&#45;3 -->\n<g id=\"edge9\" class=\"edge\">\n<title>6&#45;&#45;3</title>\n<path fill=\"none\" stroke=\"#000000\" d=\"M39.1187,-216.0535C42.3763,-188.4592 48.5809,-135.9026 51.8546,-108.1727\"/>\n</g>\n<!-- 6&#45;&#45;4 -->\n<g id=\"edge10\" class=\"edge\">\n<title>6&#45;&#45;4</title>\n<path fill=\"none\" stroke=\"#000000\" d=\"M49.4804,-217.6621C58.4814,-205.8788 70.5793,-190.0416 79.569,-178.2733\"/>\n</g>\n</g>\n</svg>\n"
          },
          "metadata": {},
          "execution_count": 4
        }
      ],
      "source": [
        "gdot = creation_graphe_graphviz(graphe)\n",
        "#print(gdot.source)\n",
        "gdot"
      ]
    },
    {
      "cell_type": "markdown",
      "metadata": {
        "id": "PD_qYn-IROCe"
      },
      "source": [
        "## Fonctions utiles pour manipuler les graphes"
      ]
    },
    {
      "cell_type": "markdown",
      "metadata": {
        "id": "ra3zVxYpROCe"
      },
      "source": [
        "#### Fonction qui construit un graphe vide (sans aretes), avec le nombre de sommets donné, et qui retourne la matrice d'adjacence correspondante"
      ]
    },
    {
      "cell_type": "code",
      "execution_count": 5,
      "metadata": {
        "id": "BLSjHetoROCf"
      },
      "outputs": [],
      "source": [
        "def graphe_vide(n):\n",
        "    g = []\n",
        "    for i in range(n):\n",
        "        l = []\n",
        "        for j in range(n):\n",
        "            l.append(0)\n",
        "        g.append(l)\n",
        "    return g"
      ]
    },
    {
      "cell_type": "markdown",
      "metadata": {
        "id": "UeNNg6cWROCf"
      },
      "source": [
        "#### Fonction qui retourne vrai si l'arete, dont les numéros de sommets extrémités sont donnés, existe"
      ]
    },
    {
      "cell_type": "code",
      "execution_count": 6,
      "metadata": {
        "id": "uTAyV9ZzROCf"
      },
      "outputs": [],
      "source": [
        "def est_arete(g, i, j):\n",
        "    return g[i][j]"
      ]
    },
    {
      "cell_type": "markdown",
      "metadata": {
        "id": "8L43bYzdROCg"
      },
      "source": [
        "#### Fonction qui calcule le degré d'un sommet"
      ]
    },
    {
      "cell_type": "code",
      "execution_count": 7,
      "metadata": {
        "id": "qX_7WswBROCg"
      },
      "outputs": [],
      "source": [
        "def degre_entrant(g, s):\n",
        "    somme = 0\n",
        "    for i in range(len(g[s])) :\n",
        "      if g[s][i] == 1 : somme += 1\n",
        "    return somme\n",
        "\n",
        "def degre_sortant(g, s):\n",
        "    somme = 0\n",
        "    for i in range(len(g[s])) :\n",
        "      if g[i][s] == 1 : somme += 1\n",
        "    return somme \n",
        "\n",
        "def degre(g, i):\n",
        "    return degre_entrant(g,i)+degre_sortant(g,i)"
      ]
    },
    {
      "cell_type": "code",
      "source": [
        "# test de la fonction degre_total\n",
        "print(\"degré total du sommet 0 :\", degre(graphe,0))\n",
        "print(\"degré total du sommet 1 :\", degre(graphe,1))\n",
        "print(\"degré total du sommet 2 :\", degre(graphe,2))"
      ],
      "metadata": {
        "colab": {
          "base_uri": "https://localhost:8080/"
        },
        "id": "ZNxCsig-YCG6",
        "outputId": "32eaaed0-c5fc-486c-e1df-3805a7505c0d"
      },
      "execution_count": 8,
      "outputs": [
        {
          "output_type": "stream",
          "name": "stdout",
          "text": [
            "degré total du sommet 0 : 4\n",
            "degré total du sommet 1 : 6\n",
            "degré total du sommet 2 : 4\n"
          ]
        }
      ]
    },
    {
      "cell_type": "markdown",
      "metadata": {
        "id": "yDT5bRf6BnYR"
      },
      "source": [
        "\n",
        "\n",
        "## Fonction qui donne la coloration des sommets d'un graphe, en utilisant l'algorithme de Welsh-Powell, sous la forme d'une liste.\n"
      ]
    },
    {
      "cell_type": "markdown",
      "metadata": {
        "id": "-v15JK0iROCg"
      },
      "source": [
        "#### Fonction qui trie les sommets selon leur degré décroissant et qui retourne la liste des sommets ainsi triée"
      ]
    },
    {
      "cell_type": "code",
      "execution_count": 9,
      "metadata": {
        "id": "YQupEh4GROCh"
      },
      "outputs": [],
      "source": [
        "def tri_sommets_identique(tab) :\n",
        "    for i in range(len(tab)) :\n",
        "        tab_indice_identique = [tab[i]]\n",
        "        for s in range(i+1,len(tab)) :\n",
        "            if tab[s][0] == tab[i][0] :\n",
        "                tab_indice_identique.append(tab[s])\n",
        "        if len(tab_indice_identique) > 1 :\n",
        "            tab_indice_identique = sorted(tab_indice_identique)\n",
        "            tab = tab[:i] + tab_indice_identique + tab[i+len(tab_indice_identique):]\n",
        "    return tab\n",
        "    \n",
        "        \n",
        "def tri_sommets_indice(g):\n",
        "    sommet = []\n",
        "    sommet_indiceTriee = []\n",
        "    for i in range(len(g)) :\n",
        "        sommet.append([degre(g,i), i])\n",
        "    sommet = sorted(sommet, reverse=True)\n",
        "    sommet = tri_sommets_identique(sommet)\n",
        "    for i in range(len(sommet)) :\n",
        "            sommet_indiceTriee.append(sommet[i][1])\n",
        "    return sommet_indiceTriee\n",
        "\n",
        "def tri_sommets(g):\n",
        "    sommet_indice = tri_sommets_indice(g)\n",
        "    sommet_trie = []\n",
        "    for i in range(len(sommet_indice)) :\n",
        "        sommet_trie.append(g[sommet_indice[i]])\n",
        "    return sommet_trie"
      ]
    },
    {
      "cell_type": "code",
      "execution_count": 10,
      "metadata": {
        "colab": {
          "base_uri": "https://localhost:8080/"
        },
        "id": "vDkaRqcsROCh",
        "outputId": "f14f0788-18fb-428a-ccc9-b15bfef5eca6"
      },
      "outputs": [
        {
          "output_type": "stream",
          "name": "stdout",
          "text": [
            "tri des sommets du graphe 1, selon leur degré décroissant\n",
            "[[0, 1, 0, 1, 0, 1, 1], [1, 0, 0, 0, 1, 1, 0], [0, 0, 1, 0, 1, 0, 1], [1, 1, 0, 0, 1, 0, 0], [0, 0, 1, 1, 1, 0, 0], [0, 1, 0, 0, 0, 1, 0], [0, 0, 0, 1, 0, 0, 1]]\n"
          ]
        }
      ],
      "source": [
        "# test de la fonction tri_sommets\n",
        "print(\"tri des sommets du graphe 1, selon leur degré décroissant\")\n",
        "print(tri_sommets(graphe))"
      ]
    },
    {
      "cell_type": "code",
      "source": [
        "def estPasVoisinTab(sommet, g, couleurs,ordre_triee) :\n",
        "    tabSommetPasVoisin = []\n",
        "    for i in range(len(g)) :\n",
        "        if g[i] == 0 and i != sommet :\n",
        "                if couleurs[searchOrdre(i,ordre_triee)] == 0:\n",
        "                    tabSommetPasVoisin.append(i)\n",
        "    return tabSommetPasVoisin\n",
        "\n",
        "def searchOrdre(sommet,ordre_triee) :\n",
        "    for i in range(len(ordre_triee)) :\n",
        "                if ordre_triee[i] == sommet:\n",
        "                    return i\n",
        "    return -1\n",
        "\n",
        "def aCouleur(sommet,couleurs,ordre_triee) :\n",
        "    return couleurs[searchOrdre(sommet,ordre_triee)] != 0\n",
        "    \n",
        "def estPasVoisin(sommet,matrice) :\n",
        "    return matrice[sommet] != 1\n",
        "    \n",
        "def unionDeMatrice(graphe1,graphe2) :\n",
        "    for i in range(len(graphe2)) :\n",
        "        if graphe2[i] == 1 :\n",
        "            graphe1[i] = 1\n",
        "    return graphe1"
      ],
      "metadata": {
        "id": "fSHJoFqsehQ_"
      },
      "execution_count": 11,
      "outputs": []
    },
    {
      "cell_type": "code",
      "source": [
        "def triCouleur(sommetNonTriee,couleurs) :\n",
        "    couleursTriee = []\n",
        "    sommetTriee = [i for i in range(len(couleurs))]\n",
        "    for i in range(len(sommetTriee)) :\n",
        "        for s in range(len(sommetNonTriee)) :\n",
        "            if sommetNonTriee[s] == sommetTriee[i] : couleursTriee.append(couleurs[s])\n",
        "    return couleursTriee"
      ],
      "metadata": {
        "id": "5wIgS-MPeeNP"
      },
      "execution_count": 12,
      "outputs": []
    },
    {
      "cell_type": "markdown",
      "metadata": {
        "id": "bWHQytbYROCh"
      },
      "source": [
        "#### Fonction qui fait la coloration de sommets avec l'algorithme de Welsh-Powell"
      ]
    },
    {
      "cell_type": "code",
      "execution_count": 13,
      "metadata": {
        "id": "o5tEM1BiB2nN"
      },
      "outputs": [],
      "source": [
        "def coloration_sommets_welsh_powell(graphe):\n",
        "    couleur_i = 0\n",
        "    couleurs = [1]\n",
        "    ordre_triee = tri_sommets_indice(graphe)\n",
        "    for _ in range(len(ordre_triee)-1) : couleurs.append(0)\n",
        "    i = -1\n",
        "    ajoutCouleur = True\n",
        "    while 0 in couleurs :\n",
        "        i += 1\n",
        "        if ajoutCouleur == True :\n",
        "            couleur_i += 1\n",
        "            ajoutCouleur = False\n",
        "        matriceSommet = graphe[ordre_triee[i]]\n",
        "        tabEstPasVoisin = estPasVoisinTab(ordre_triee[i],matriceSommet,couleurs,ordre_triee)\n",
        "        for s in range(len(tabEstPasVoisin)) :\n",
        "            if estPasVoisin(tabEstPasVoisin[s],matriceSommet) :\n",
        "                if not aCouleur(ordre_triee[i],couleurs,ordre_triee) : couleurs[searchOrdre(ordre_triee[i],ordre_triee)] = couleur_i\n",
        "                couleurs[searchOrdre(tabEstPasVoisin[s],ordre_triee)] = couleur_i\n",
        "                grapheVoisin = graphe[tabEstPasVoisin[s]]\n",
        "                graphe[ordre_triee[i]] = unionDeMatrice(matriceSommet, grapheVoisin)\n",
        "                graphe[tabEstPasVoisin[s]] = unionDeMatrice(matriceSommet, grapheVoisin)\n",
        "                ajoutCouleur = True\n",
        "    couleurs = triCouleur(ordre_triee,couleurs)                    \n",
        "    return couleurs"
      ]
    },
    {
      "cell_type": "code",
      "execution_count": 14,
      "metadata": {
        "colab": {
          "base_uri": "https://localhost:8080/"
        },
        "id": "Q-zes9LUCA0p",
        "outputId": "6dc773ee-398b-4cbd-db0c-f6e1cbab2639"
      },
      "outputs": [
        {
          "output_type": "stream",
          "name": "stdout",
          "text": [
            "coloration des sommets du graphe\n",
            "[1, 2, 1, 2, 1, 3, 3]\n"
          ]
        }
      ],
      "source": [
        "# test de la fonction coloration_sommets_welsh_powell\n",
        "print(\"coloration des sommets du graphe\")\n",
        "couleurs_sommets = coloration_sommets_welsh_powell(graphe)\n",
        "print(couleurs_sommets)"
      ]
    },
    {
      "cell_type": "markdown",
      "metadata": {
        "id": "ZEYl4eOuROCi"
      },
      "source": [
        "#### Fonction qui affiche un planning des activités par journée, à partir de la coloration calculée (en indiquant les noms des activités), en utilisant un dictionnaire"
      ]
    },
    {
      "cell_type": "code",
      "execution_count": 15,
      "metadata": {
        "id": "rI-ujDbmROCi"
      },
      "outputs": [],
      "source": [
        "def planning_activites(couleurs, sommets):\n",
        "    planning = {}\n",
        "    for i in range(1,max(couleurs)+1) :\n",
        "        planning[\"Journée \"+str(i)] = [sommets[s] for s in range(len(couleurs)) if couleurs[s] == i]\n",
        "    return planning"
      ]
    },
    {
      "cell_type": "code",
      "execution_count": 16,
      "metadata": {
        "id": "fyDiBlHwROCi",
        "outputId": "75ed75eb-9113-44f4-f4bd-f894cb859cfa",
        "colab": {
          "base_uri": "https://localhost:8080/"
        }
      },
      "outputs": [
        {
          "output_type": "stream",
          "name": "stdout",
          "text": [
            "planning des activités\n",
            "{'Journée 1': ['AKWA NATURE - CANOË-KAYAK', 'BLUE GREEN GOLF LE CROISIC', 'PAINTBALL'], 'Journée 2': ['BILLARD CLUB BAULOIS', \"ESCAPE GAME 'TERREUR AU BIGNON'- THÉÂTRE IMMERSIF\"], 'Journée 3': ['MOTO-CROSS DE LA HUTIERE', 'PISCINE DES ARDRIERS']}\n"
          ]
        }
      ],
      "source": [
        "# test de la fonction planning_activites\n",
        "print(\"planning des activités\")\n",
        "planning = planning_activites(couleurs_sommets, noms_sommets)\n",
        "print(planning)"
      ]
    }
  ],
  "metadata": {
    "colab": {
      "collapsed_sections": [],
      "name": "SAE-graphes_partie-1_coloration.ipynb",
      "provenance": []
    },
    "interpreter": {
      "hash": "81117c8c447e168d9a38a96a9ef319fcd55e71c398ce2c2fd7c7a590e37bb453"
    },
    "kernelspec": {
      "display_name": "Python 3.8.5 ('base')",
      "language": "python",
      "name": "python3"
    },
    "language_info": {
      "codemirror_mode": {
        "name": "ipython",
        "version": 3
      },
      "file_extension": ".py",
      "mimetype": "text/x-python",
      "name": "python",
      "nbconvert_exporter": "python",
      "pygments_lexer": "ipython3",
      "version": "3.8.5"
    }
  },
  "nbformat": 4,
  "nbformat_minor": 0
}